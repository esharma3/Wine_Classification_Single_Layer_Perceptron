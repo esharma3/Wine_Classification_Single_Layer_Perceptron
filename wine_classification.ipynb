{
 "cells": [
  {
   "cell_type": "code",
   "execution_count": 1,
   "metadata": {},
   "outputs": [
    {
     "name": "stdout",
     "output_type": "stream",
     "text": [
      "Requirement already satisfied: tensorflow==1.15 in c:\\users\\eshom\\.virtualenvs\\wine-mnvdxzzj\\lib\\site-packages (1.15.0)\n",
      "Requirement already satisfied: opt-einsum>=2.3.2 in c:\\users\\eshom\\.virtualenvs\\wine-mnvdxzzj\\lib\\site-packages (from tensorflow==1.15) (3.2.1)\n",
      "Requirement already satisfied: tensorflow-estimator==1.15.1 in c:\\users\\eshom\\.virtualenvs\\wine-mnvdxzzj\\lib\\site-packages (from tensorflow==1.15) (1.15.1)\n",
      "Requirement already satisfied: absl-py>=0.7.0 in c:\\users\\eshom\\.virtualenvs\\wine-mnvdxzzj\\lib\\site-packages (from tensorflow==1.15) (0.9.0)\n",
      "Requirement already satisfied: tensorboard<1.16.0,>=1.15.0 in c:\\users\\eshom\\.virtualenvs\\wine-mnvdxzzj\\lib\\site-packages (from tensorflow==1.15) (1.15.0)\n",
      "Requirement already satisfied: termcolor>=1.1.0 in c:\\users\\eshom\\.virtualenvs\\wine-mnvdxzzj\\lib\\site-packages (from tensorflow==1.15) (1.1.0)\n",
      "Requirement already satisfied: wrapt>=1.11.1 in c:\\users\\eshom\\.virtualenvs\\wine-mnvdxzzj\\lib\\site-packages (from tensorflow==1.15) (1.12.1)\n",
      "Requirement already satisfied: grpcio>=1.8.6 in c:\\users\\eshom\\.virtualenvs\\wine-mnvdxzzj\\lib\\site-packages (from tensorflow==1.15) (1.30.0)\n",
      "Requirement already satisfied: wheel>=0.26 in c:\\users\\eshom\\.virtualenvs\\wine-mnvdxzzj\\lib\\site-packages (from tensorflow==1.15) (0.34.2)\n",
      "Requirement already satisfied: numpy<2.0,>=1.16.0 in c:\\users\\eshom\\.virtualenvs\\wine-mnvdxzzj\\lib\\site-packages (from tensorflow==1.15) (1.18.5)\n",
      "Requirement already satisfied: google-pasta>=0.1.6 in c:\\users\\eshom\\.virtualenvs\\wine-mnvdxzzj\\lib\\site-packages (from tensorflow==1.15) (0.2.0)\n",
      "Requirement already satisfied: protobuf>=3.6.1 in c:\\users\\eshom\\.virtualenvs\\wine-mnvdxzzj\\lib\\site-packages (from tensorflow==1.15) (3.12.2)\n",
      "Requirement already satisfied: astor>=0.6.0 in c:\\users\\eshom\\.virtualenvs\\wine-mnvdxzzj\\lib\\site-packages (from tensorflow==1.15) (0.8.1)\n",
      "Requirement already satisfied: keras-applications>=1.0.8 in c:\\users\\eshom\\.virtualenvs\\wine-mnvdxzzj\\lib\\site-packages (from tensorflow==1.15) (1.0.8)\n",
      "Requirement already satisfied: keras-preprocessing>=1.0.5 in c:\\users\\eshom\\.virtualenvs\\wine-mnvdxzzj\\lib\\site-packages (from tensorflow==1.15) (1.1.2)\n",
      "Requirement already satisfied: gast==0.2.2 in c:\\users\\eshom\\.virtualenvs\\wine-mnvdxzzj\\lib\\site-packages (from tensorflow==1.15) (0.2.2)\n",
      "Requirement already satisfied: six>=1.10.0 in c:\\users\\eshom\\.virtualenvs\\wine-mnvdxzzj\\lib\\site-packages (from tensorflow==1.15) (1.15.0)\n",
      "Requirement already satisfied: werkzeug>=0.11.15 in c:\\users\\eshom\\.virtualenvs\\wine-mnvdxzzj\\lib\\site-packages (from tensorboard<1.16.0,>=1.15.0->tensorflow==1.15) (1.0.1)\n",
      "Requirement already satisfied: markdown>=2.6.8 in c:\\users\\eshom\\.virtualenvs\\wine-mnvdxzzj\\lib\\site-packages (from tensorboard<1.16.0,>=1.15.0->tensorflow==1.15) (3.2.2)\n",
      "Requirement already satisfied: setuptools>=41.0.0 in c:\\users\\eshom\\.virtualenvs\\wine-mnvdxzzj\\lib\\site-packages (from tensorboard<1.16.0,>=1.15.0->tensorflow==1.15) (49.1.0)\n",
      "Requirement already satisfied: h5py in c:\\users\\eshom\\.virtualenvs\\wine-mnvdxzzj\\lib\\site-packages (from keras-applications>=1.0.8->tensorflow==1.15) (2.10.0)\n",
      "Requirement already satisfied: importlib-metadata; python_version < \"3.8\" in c:\\users\\eshom\\.virtualenvs\\wine-mnvdxzzj\\lib\\site-packages (from markdown>=2.6.8->tensorboard<1.16.0,>=1.15.0->tensorflow==1.15) (1.7.0)\n",
      "Requirement already satisfied: zipp>=0.5 in c:\\users\\eshom\\.virtualenvs\\wine-mnvdxzzj\\lib\\site-packages (from importlib-metadata; python_version < \"3.8\"->markdown>=2.6.8->tensorboard<1.16.0,>=1.15.0->tensorflow==1.15) (3.1.0)\n",
      "Note: you may need to restart the kernel to use updated packages.\n"
     ]
    }
   ],
   "source": [
    "pip install tensorflow==1.15"
   ]
  },
  {
   "cell_type": "code",
   "execution_count": 2,
   "metadata": {},
   "outputs": [
    {
     "data": {
      "application/javascript": [
       "\n",
       "            setTimeout(function() {\n",
       "                var nbb_cell_id = 2;\n",
       "                var nbb_unformatted_code = \"# import the required libraries\\nimport matplotlib.pyplot as plt\\nimport tensorflow as tf\\nimport numpy as np\\nimport pandas as pd\\nfrom sklearn.utils import shuffle\\nfrom sklearn.model_selection import train_test_split\\nfrom sklearn.preprocessing import OneHotEncoder\\n\\n# code formatter\\n%load_ext nb_black\";\n",
       "                var nbb_formatted_code = \"# import the required libraries\\nimport matplotlib.pyplot as plt\\nimport tensorflow as tf\\nimport numpy as np\\nimport pandas as pd\\nfrom sklearn.utils import shuffle\\nfrom sklearn.model_selection import train_test_split\\nfrom sklearn.preprocessing import OneHotEncoder\\n\\n# code formatter\\n%load_ext nb_black\";\n",
       "                var nbb_cells = Jupyter.notebook.get_cells();\n",
       "                for (var i = 0; i < nbb_cells.length; ++i) {\n",
       "                    if (nbb_cells[i].input_prompt_number == nbb_cell_id) {\n",
       "                        if (nbb_cells[i].get_text() == nbb_unformatted_code) {\n",
       "                             nbb_cells[i].set_text(nbb_formatted_code);\n",
       "                        }\n",
       "                        break;\n",
       "                    }\n",
       "                }\n",
       "            }, 500);\n",
       "            "
      ],
      "text/plain": [
       "<IPython.core.display.Javascript object>"
      ]
     },
     "metadata": {},
     "output_type": "display_data"
    }
   ],
   "source": [
    "# import the required libraries\n",
    "import matplotlib.pyplot as plt\n",
    "import tensorflow as tf\n",
    "import numpy as np\n",
    "import pandas as pd\n",
    "from sklearn.utils import shuffle\n",
    "from sklearn.model_selection import train_test_split\n",
    "from sklearn.preprocessing import OneHotEncoder\n",
    "\n",
    "# code formatter\n",
    "%load_ext nb_black"
   ]
  },
  {
   "cell_type": "code",
   "execution_count": 3,
   "metadata": {},
   "outputs": [
    {
     "data": {
      "application/javascript": [
       "\n",
       "            setTimeout(function() {\n",
       "                var nbb_cell_id = 3;\n",
       "                var nbb_unformatted_code = \"# function to read the wine dataset\\ndef read_dataset():\\n\\n    df = pd.read_csv(\\\"wine.csv\\\")\\n    print(len(df.columns))\\n    print(df.head())\\n    X = df.drop([\\\"Wine\\\"], axis=1).values\\n    y = df[\\\"Wine\\\"].values\\n    Y = one_hot_encode(y)\\n\\n    return (X, Y, y)\";\n",
       "                var nbb_formatted_code = \"# function to read the wine dataset\\ndef read_dataset():\\n\\n    df = pd.read_csv(\\\"wine.csv\\\")\\n    print(len(df.columns))\\n    print(df.head())\\n    X = df.drop([\\\"Wine\\\"], axis=1).values\\n    y = df[\\\"Wine\\\"].values\\n    Y = one_hot_encode(y)\\n\\n    return (X, Y, y)\";\n",
       "                var nbb_cells = Jupyter.notebook.get_cells();\n",
       "                for (var i = 0; i < nbb_cells.length; ++i) {\n",
       "                    if (nbb_cells[i].input_prompt_number == nbb_cell_id) {\n",
       "                        if (nbb_cells[i].get_text() == nbb_unformatted_code) {\n",
       "                             nbb_cells[i].set_text(nbb_formatted_code);\n",
       "                        }\n",
       "                        break;\n",
       "                    }\n",
       "                }\n",
       "            }, 500);\n",
       "            "
      ],
      "text/plain": [
       "<IPython.core.display.Javascript object>"
      ]
     },
     "metadata": {},
     "output_type": "display_data"
    }
   ],
   "source": [
    "# function to read the wine dataset\n",
    "def read_dataset():\n",
    "\n",
    "    df = pd.read_csv(\"wine.csv\")\n",
    "    print(len(df.columns))\n",
    "    print(df.head())\n",
    "    X = df.drop([\"Wine\"], axis=1).values\n",
    "    y = df[\"Wine\"].values\n",
    "    Y = one_hot_encode(y)\n",
    "\n",
    "    return (X, Y, y)"
   ]
  },
  {
   "cell_type": "code",
   "execution_count": 4,
   "metadata": {},
   "outputs": [
    {
     "data": {
      "application/javascript": [
       "\n",
       "            setTimeout(function() {\n",
       "                var nbb_cell_id = 4;\n",
       "                var nbb_unformatted_code = \"# standardize the features of the dataset\\ndef feature_normalize(features):\\n    mu = np.mean(features, axis=0)\\n    sigma = np.std(features, axis=0)\\n    normalize_features = (features - mu) / sigma\\n    return normalize_features\";\n",
       "                var nbb_formatted_code = \"# standardize the features of the dataset\\ndef feature_normalize(features):\\n    mu = np.mean(features, axis=0)\\n    sigma = np.std(features, axis=0)\\n    normalize_features = (features - mu) / sigma\\n    return normalize_features\";\n",
       "                var nbb_cells = Jupyter.notebook.get_cells();\n",
       "                for (var i = 0; i < nbb_cells.length; ++i) {\n",
       "                    if (nbb_cells[i].input_prompt_number == nbb_cell_id) {\n",
       "                        if (nbb_cells[i].get_text() == nbb_unformatted_code) {\n",
       "                             nbb_cells[i].set_text(nbb_formatted_code);\n",
       "                        }\n",
       "                        break;\n",
       "                    }\n",
       "                }\n",
       "            }, 500);\n",
       "            "
      ],
      "text/plain": [
       "<IPython.core.display.Javascript object>"
      ]
     },
     "metadata": {},
     "output_type": "display_data"
    }
   ],
   "source": [
    "# standardize the features of the dataset\n",
    "def feature_normalize(features):\n",
    "    mu = np.mean(features, axis=0)\n",
    "    sigma = np.std(features, axis=0)\n",
    "    normalize_features = (features - mu) / sigma\n",
    "    return normalize_features"
   ]
  },
  {
   "cell_type": "code",
   "execution_count": 5,
   "metadata": {},
   "outputs": [
    {
     "data": {
      "application/javascript": [
       "\n",
       "            setTimeout(function() {\n",
       "                var nbb_cell_id = 5;\n",
       "                var nbb_unformatted_code = \"# appending the bias\\ndef append_bias_reshape(features):\\n    n_training_samples = features.shape[0]\\n    n_dim = features.shape[1]\\n    features = np.reshape(\\n        np.c_[np.ones(n_training_samples), features], [n_training_samples, n_dim + 1]\\n    )\\n    return features\";\n",
       "                var nbb_formatted_code = \"# appending the bias\\ndef append_bias_reshape(features):\\n    n_training_samples = features.shape[0]\\n    n_dim = features.shape[1]\\n    features = np.reshape(\\n        np.c_[np.ones(n_training_samples), features], [n_training_samples, n_dim + 1]\\n    )\\n    return features\";\n",
       "                var nbb_cells = Jupyter.notebook.get_cells();\n",
       "                for (var i = 0; i < nbb_cells.length; ++i) {\n",
       "                    if (nbb_cells[i].input_prompt_number == nbb_cell_id) {\n",
       "                        if (nbb_cells[i].get_text() == nbb_unformatted_code) {\n",
       "                             nbb_cells[i].set_text(nbb_formatted_code);\n",
       "                        }\n",
       "                        break;\n",
       "                    }\n",
       "                }\n",
       "            }, 500);\n",
       "            "
      ],
      "text/plain": [
       "<IPython.core.display.Javascript object>"
      ]
     },
     "metadata": {},
     "output_type": "display_data"
    }
   ],
   "source": [
    "# appending the bias\n",
    "def append_bias_reshape(features):\n",
    "    n_training_samples = features.shape[0]\n",
    "    n_dim = features.shape[1]\n",
    "    features = np.reshape(\n",
    "        np.c_[np.ones(n_training_samples), features], [n_training_samples, n_dim + 1]\n",
    "    )\n",
    "    return features"
   ]
  },
  {
   "cell_type": "code",
   "execution_count": 6,
   "metadata": {},
   "outputs": [
    {
     "data": {
      "application/javascript": [
       "\n",
       "            setTimeout(function() {\n",
       "                var nbb_cell_id = 6;\n",
       "                var nbb_unformatted_code = \"# define the one hot encode function\\ndef one_hot_encode(labels):\\n    labels = labels.reshape(-1, 1)\\n    enc = OneHotEncoder(handle_unknown=\\\"ignore\\\")\\n    enc.fit(labels)\\n    result = enc.transform(labels).toarray()\\n    return result\";\n",
       "                var nbb_formatted_code = \"# define the one hot encode function\\ndef one_hot_encode(labels):\\n    labels = labels.reshape(-1, 1)\\n    enc = OneHotEncoder(handle_unknown=\\\"ignore\\\")\\n    enc.fit(labels)\\n    result = enc.transform(labels).toarray()\\n    return result\";\n",
       "                var nbb_cells = Jupyter.notebook.get_cells();\n",
       "                for (var i = 0; i < nbb_cells.length; ++i) {\n",
       "                    if (nbb_cells[i].input_prompt_number == nbb_cell_id) {\n",
       "                        if (nbb_cells[i].get_text() == nbb_unformatted_code) {\n",
       "                             nbb_cells[i].set_text(nbb_formatted_code);\n",
       "                        }\n",
       "                        break;\n",
       "                    }\n",
       "                }\n",
       "            }, 500);\n",
       "            "
      ],
      "text/plain": [
       "<IPython.core.display.Javascript object>"
      ]
     },
     "metadata": {},
     "output_type": "display_data"
    }
   ],
   "source": [
    "# define the one hot encode function\n",
    "def one_hot_encode(labels):\n",
    "    labels = labels.reshape(-1, 1)\n",
    "    enc = OneHotEncoder(handle_unknown=\"ignore\")\n",
    "    enc.fit(labels)\n",
    "    result = enc.transform(labels).toarray()\n",
    "    return result"
   ]
  },
  {
   "cell_type": "code",
   "execution_count": 7,
   "metadata": {},
   "outputs": [
    {
     "data": {
      "application/javascript": [
       "\n",
       "            setTimeout(function() {\n",
       "                var nbb_cell_id = 7;\n",
       "                var nbb_unformatted_code = \"# plot the graph for the data\\ndef plot_points(features, labels):\\n\\n    normal = np.where(labels == 0)\\n    outliers = np.where(labels == 1)\\n    fig = plt.figure(figsize=(10, 8))\\n    plt.plot(features[normal, 0], features[normal, 1], \\\"bx\\\")\\n    plt.plot(features[outliers, 0], features[outliers, 1], \\\"ro\\\")\\n    plt.xlabel(\\\"Features\\\")\\n    plt.ylabel(\\\"Wine Class\\\")\\n    plt.show()\";\n",
       "                var nbb_formatted_code = \"# plot the graph for the data\\ndef plot_points(features, labels):\\n\\n    normal = np.where(labels == 0)\\n    outliers = np.where(labels == 1)\\n    fig = plt.figure(figsize=(10, 8))\\n    plt.plot(features[normal, 0], features[normal, 1], \\\"bx\\\")\\n    plt.plot(features[outliers, 0], features[outliers, 1], \\\"ro\\\")\\n    plt.xlabel(\\\"Features\\\")\\n    plt.ylabel(\\\"Wine Class\\\")\\n    plt.show()\";\n",
       "                var nbb_cells = Jupyter.notebook.get_cells();\n",
       "                for (var i = 0; i < nbb_cells.length; ++i) {\n",
       "                    if (nbb_cells[i].input_prompt_number == nbb_cell_id) {\n",
       "                        if (nbb_cells[i].get_text() == nbb_unformatted_code) {\n",
       "                             nbb_cells[i].set_text(nbb_formatted_code);\n",
       "                        }\n",
       "                        break;\n",
       "                    }\n",
       "                }\n",
       "            }, 500);\n",
       "            "
      ],
      "text/plain": [
       "<IPython.core.display.Javascript object>"
      ]
     },
     "metadata": {},
     "output_type": "display_data"
    }
   ],
   "source": [
    "# plot the graph for the data\n",
    "def plot_points(features, labels):\n",
    "\n",
    "    normal = np.where(labels == 0)\n",
    "    outliers = np.where(labels == 1)\n",
    "    fig = plt.figure(figsize=(10, 8))\n",
    "    plt.plot(features[normal, 0], features[normal, 1], \"bx\")\n",
    "    plt.plot(features[outliers, 0], features[outliers, 1], \"ro\")\n",
    "    plt.xlabel(\"Features\")\n",
    "    plt.ylabel(\"Wine Class\")\n",
    "    plt.show()"
   ]
  },
  {
   "cell_type": "code",
   "execution_count": 8,
   "metadata": {},
   "outputs": [
    {
     "name": "stdout",
     "output_type": "stream",
     "text": [
      "14\n",
      "   Wine  Alcohol  Malic.acid   Ash   Acl   Mg  Phenols  Flavanoids  \\\n",
      "0     1    14.23        1.71  2.43  15.6  127     2.80        3.06   \n",
      "1     1    13.20        1.78  2.14  11.2  100     2.65        2.76   \n",
      "2     1    13.16        2.36  2.67  18.6  101     2.80        3.24   \n",
      "3     1    14.37        1.95  2.50  16.8  113     3.85        3.49   \n",
      "4     1    13.24        2.59  2.87  21.0  118     2.80        2.69   \n",
      "\n",
      "   Nonflavanoid.phenols  Proanth  Color.int   Hue    OD  Proline  \n",
      "0                  0.28     2.29       5.64  1.04  3.92     1065  \n",
      "1                  0.26     1.28       4.38  1.05  3.40     1050  \n",
      "2                  0.30     2.81       5.68  1.03  3.17     1185  \n",
      "3                  0.24     2.18       7.80  0.86  3.45     1480  \n",
      "4                  0.39     1.82       4.32  1.04  2.93      735  \n"
     ]
    },
    {
     "data": {
      "image/png": "[encoded data removed]",
      "text/plain": [
       "<Figure size 720x576 with 1 Axes>"
      ]
     },
     "metadata": {
      "needs_background": "light"
     },
     "output_type": "display_data"
    },
    {
     "data": {
      "application/javascript": [
       "\n",
       "            setTimeout(function() {\n",
       "                var nbb_cell_id = 8;\n",
       "                var nbb_unformatted_code = \"# read the data\\nX, Y, y = read_dataset()  # X - Features , Y - Labels\\nnormalized_X = feature_normalize(X)\\nplot_points(normalized_X, y)\\n# print(X)\";\n",
       "                var nbb_formatted_code = \"# read the data\\nX, Y, y = read_dataset()  # X - Features , Y - Labels\\nnormalized_X = feature_normalize(X)\\nplot_points(normalized_X, y)\\n# print(X)\";\n",
       "                var nbb_cells = Jupyter.notebook.get_cells();\n",
       "                for (var i = 0; i < nbb_cells.length; ++i) {\n",
       "                    if (nbb_cells[i].input_prompt_number == nbb_cell_id) {\n",
       "                        if (nbb_cells[i].get_text() == nbb_unformatted_code) {\n",
       "                             nbb_cells[i].set_text(nbb_formatted_code);\n",
       "                        }\n",
       "                        break;\n",
       "                    }\n",
       "                }\n",
       "            }, 500);\n",
       "            "
      ],
      "text/plain": [
       "<IPython.core.display.Javascript object>"
      ]
     },
     "metadata": {},
     "output_type": "display_data"
    }
   ],
   "source": [
    "# read the data\n",
    "X, Y, y = read_dataset()  # X - Features , Y - Labels\n",
    "normalized_X = feature_normalize(X)\n",
    "plot_points(normalized_X, y)\n",
    "# print(X)"
   ]
  },
  {
   "cell_type": "code",
   "execution_count": 9,
   "metadata": {},
   "outputs": [
    {
     "data": {
      "application/javascript": [
       "\n",
       "            setTimeout(function() {\n",
       "                var nbb_cell_id = 9;\n",
       "                var nbb_unformatted_code = \"# Transform the data in training and testing\\n# X, Y = shuffle(normalized_featues, Y, random_state=1)\\ntrain_x, test_x, train_y, test_y = train_test_split(\\n    normalized_X, Y, test_size=0.20, random_state=42\\n)\";\n",
       "                var nbb_formatted_code = \"# Transform the data in training and testing\\n# X, Y = shuffle(normalized_featues, Y, random_state=1)\\ntrain_x, test_x, train_y, test_y = train_test_split(\\n    normalized_X, Y, test_size=0.20, random_state=42\\n)\";\n",
       "                var nbb_cells = Jupyter.notebook.get_cells();\n",
       "                for (var i = 0; i < nbb_cells.length; ++i) {\n",
       "                    if (nbb_cells[i].input_prompt_number == nbb_cell_id) {\n",
       "                        if (nbb_cells[i].get_text() == nbb_unformatted_code) {\n",
       "                             nbb_cells[i].set_text(nbb_formatted_code);\n",
       "                        }\n",
       "                        break;\n",
       "                    }\n",
       "                }\n",
       "            }, 500);\n",
       "            "
      ],
      "text/plain": [
       "<IPython.core.display.Javascript object>"
      ]
     },
     "metadata": {},
     "output_type": "display_data"
    }
   ],
   "source": [
    "# Transform the data in training and testing\n",
    "# X, Y = shuffle(normalized_featues, Y, random_state=1)\n",
    "train_x, test_x, train_y, test_y = train_test_split(\n",
    "    normalized_X, Y, test_size=0.20, random_state=42\n",
    ")"
   ]
  },
  {
   "cell_type": "code",
   "execution_count": 10,
   "metadata": {},
   "outputs": [
    {
     "name": "stdout",
     "output_type": "stream",
     "text": [
      "(142, 13)\n",
      "(142, 3)\n",
      "(36, 13)\n",
      "(36, 3)\n"
     ]
    },
    {
     "data": {
      "application/javascript": [
       "\n",
       "            setTimeout(function() {\n",
       "                var nbb_cell_id = 10;\n",
       "                var nbb_unformatted_code = \"# print the shape of the train and test data values\\nprint(train_x.shape)\\nprint(train_y.shape)\\nprint(test_x.shape)\\nprint(test_y.shape)\";\n",
       "                var nbb_formatted_code = \"# print the shape of the train and test data values\\nprint(train_x.shape)\\nprint(train_y.shape)\\nprint(test_x.shape)\\nprint(test_y.shape)\";\n",
       "                var nbb_cells = Jupyter.notebook.get_cells();\n",
       "                for (var i = 0; i < nbb_cells.length; ++i) {\n",
       "                    if (nbb_cells[i].input_prompt_number == nbb_cell_id) {\n",
       "                        if (nbb_cells[i].get_text() == nbb_unformatted_code) {\n",
       "                             nbb_cells[i].set_text(nbb_formatted_code);\n",
       "                        }\n",
       "                        break;\n",
       "                    }\n",
       "                }\n",
       "            }, 500);\n",
       "            "
      ],
      "text/plain": [
       "<IPython.core.display.Javascript object>"
      ]
     },
     "metadata": {},
     "output_type": "display_data"
    }
   ],
   "source": [
    "# print the shape of the train and test data values\n",
    "print(train_x.shape)\n",
    "print(train_y.shape)\n",
    "print(test_x.shape)\n",
    "print(test_y.shape)"
   ]
  },
  {
   "cell_type": "code",
   "execution_count": 11,
   "metadata": {},
   "outputs": [
    {
     "name": "stdout",
     "output_type": "stream",
     "text": [
      "13\n",
      "Tensor(\"Placeholder:0\", shape=(?, 13), dtype=float32)\n"
     ]
    },
    {
     "data": {
      "application/javascript": [
       "\n",
       "            setTimeout(function() {\n",
       "                var nbb_cell_id = 11;\n",
       "                var nbb_unformatted_code = \"# define and initialize the variables to work with the tensors\\nlearning_rate = 0.1\\ntraining_epochs = 100\\n\\ncost_history = np.empty(shape=[1], dtype=float)\\n\\nn_dim = X.shape[1]\\nprint(n_dim)\\nn_class = 3\\n\\nx = tf.placeholder(tf.float32, [None, n_dim])\\nprint(x)\\nW = tf.Variable(tf.zeros([n_dim, n_class]))\\nb = tf.Variable(tf.zeros([n_class]))\";\n",
       "                var nbb_formatted_code = \"# define and initialize the variables to work with the tensors\\nlearning_rate = 0.1\\ntraining_epochs = 100\\n\\ncost_history = np.empty(shape=[1], dtype=float)\\n\\nn_dim = X.shape[1]\\nprint(n_dim)\\nn_class = 3\\n\\nx = tf.placeholder(tf.float32, [None, n_dim])\\nprint(x)\\nW = tf.Variable(tf.zeros([n_dim, n_class]))\\nb = tf.Variable(tf.zeros([n_class]))\";\n",
       "                var nbb_cells = Jupyter.notebook.get_cells();\n",
       "                for (var i = 0; i < nbb_cells.length; ++i) {\n",
       "                    if (nbb_cells[i].input_prompt_number == nbb_cell_id) {\n",
       "                        if (nbb_cells[i].get_text() == nbb_unformatted_code) {\n",
       "                             nbb_cells[i].set_text(nbb_formatted_code);\n",
       "                        }\n",
       "                        break;\n",
       "                    }\n",
       "                }\n",
       "            }, 500);\n",
       "            "
      ],
      "text/plain": [
       "<IPython.core.display.Javascript object>"
      ]
     },
     "metadata": {},
     "output_type": "display_data"
    }
   ],
   "source": [
    "# define and initialize the variables to work with the tensors\n",
    "learning_rate = 0.1\n",
    "training_epochs = 100\n",
    "\n",
    "cost_history = np.empty(shape=[1], dtype=float)\n",
    "\n",
    "n_dim = X.shape[1]\n",
    "print(n_dim)\n",
    "n_class = 3\n",
    "\n",
    "x = tf.placeholder(tf.float32, [None, n_dim])\n",
    "print(x)\n",
    "W = tf.Variable(tf.zeros([n_dim, n_class]))\n",
    "b = tf.Variable(tf.zeros([n_class]))"
   ]
  },
  {
   "cell_type": "code",
   "execution_count": 12,
   "metadata": {},
   "outputs": [
    {
     "data": {
      "application/javascript": [
       "\n",
       "            setTimeout(function() {\n",
       "                var nbb_cell_id = 12;\n",
       "                var nbb_unformatted_code = \"# initialize all variables.\\ninit = tf.global_variables_initializer()\\n\\n# define the cost function\\ny_ = tf.placeholder(tf.float32, [None, n_class])\\ny = tf.nn.softmax(tf.matmul(x, W) + b)\\ncost_function = tf.reduce_mean(-tf.reduce_sum((y_ * tf.log(y)), reduction_indices=[1]))\\ntraining_step = tf.train.GradientDescentOptimizer(learning_rate).minimize(cost_function)\";\n",
       "                var nbb_formatted_code = \"# initialize all variables.\\ninit = tf.global_variables_initializer()\\n\\n# define the cost function\\ny_ = tf.placeholder(tf.float32, [None, n_class])\\ny = tf.nn.softmax(tf.matmul(x, W) + b)\\ncost_function = tf.reduce_mean(-tf.reduce_sum((y_ * tf.log(y)), reduction_indices=[1]))\\ntraining_step = tf.train.GradientDescentOptimizer(learning_rate).minimize(cost_function)\";\n",
       "                var nbb_cells = Jupyter.notebook.get_cells();\n",
       "                for (var i = 0; i < nbb_cells.length; ++i) {\n",
       "                    if (nbb_cells[i].input_prompt_number == nbb_cell_id) {\n",
       "                        if (nbb_cells[i].get_text() == nbb_unformatted_code) {\n",
       "                             nbb_cells[i].set_text(nbb_formatted_code);\n",
       "                        }\n",
       "                        break;\n",
       "                    }\n",
       "                }\n",
       "            }, 500);\n",
       "            "
      ],
      "text/plain": [
       "<IPython.core.display.Javascript object>"
      ]
     },
     "metadata": {},
     "output_type": "display_data"
    }
   ],
   "source": [
    "# initialize all variables.\n",
    "init = tf.global_variables_initializer()\n",
    "\n",
    "# define the cost function\n",
    "y_ = tf.placeholder(tf.float32, [None, n_class])\n",
    "y = tf.nn.softmax(tf.matmul(x, W) + b)\n",
    "cost_function = tf.reduce_mean(-tf.reduce_sum((y_ * tf.log(y)), reduction_indices=[1]))\n",
    "training_step = tf.train.GradientDescentOptimizer(learning_rate).minimize(cost_function)"
   ]
  },
  {
   "cell_type": "code",
   "execution_count": 13,
   "metadata": {},
   "outputs": [
    {
     "data": {
      "application/javascript": [
       "\n",
       "            setTimeout(function() {\n",
       "                var nbb_cell_id = 13;\n",
       "                var nbb_unformatted_code = \"# initialize the session\\nsess = tf.Session()\\nsess.run(init)\\nmse_history = []\";\n",
       "                var nbb_formatted_code = \"# initialize the session\\nsess = tf.Session()\\nsess.run(init)\\nmse_history = []\";\n",
       "                var nbb_cells = Jupyter.notebook.get_cells();\n",
       "                for (var i = 0; i < nbb_cells.length; ++i) {\n",
       "                    if (nbb_cells[i].input_prompt_number == nbb_cell_id) {\n",
       "                        if (nbb_cells[i].get_text() == nbb_unformatted_code) {\n",
       "                             nbb_cells[i].set_text(nbb_formatted_code);\n",
       "                        }\n",
       "                        break;\n",
       "                    }\n",
       "                }\n",
       "            }, 500);\n",
       "            "
      ],
      "text/plain": [
       "<IPython.core.display.Javascript object>"
      ]
     },
     "metadata": {},
     "output_type": "display_data"
    }
   ],
   "source": [
    "# initialize the session\n",
    "sess = tf.Session()\n",
    "sess.run(init)\n",
    "mse_history = []"
   ]
  },
  {
   "cell_type": "code",
   "execution_count": 14,
   "metadata": {},
   "outputs": [
    {
     "name": "stdout",
     "output_type": "stream",
     "text": [
      "epoch :  0  -  cost:  0.9301301\n",
      "epoch :  1  -  cost:  0.8029725\n",
      "epoch :  2  -  cost:  0.7062242\n",
      "epoch :  3  -  cost:  0.63127375\n",
      "epoch :  4  -  cost:  0.5719493\n",
      "epoch :  5  -  cost:  0.52398974\n",
      "epoch :  6  -  cost:  0.48446542\n",
      "epoch :  7  -  cost:  0.45133823\n",
      "epoch :  8  -  cost:  0.4231632\n",
      "epoch :  9  -  cost:  0.39889452\n",
      "epoch :  10  -  cost:  0.37775928\n",
      "epoch :  11  -  cost:  0.35917553\n",
      "epoch :  12  -  cost:  0.34269705\n",
      "epoch :  13  -  cost:  0.32797635\n",
      "epoch :  14  -  cost:  0.31473854\n",
      "epoch :  15  -  cost:  0.30276388\n",
      "epoch :  16  -  cost:  0.2918741\n",
      "epoch :  17  -  cost:  0.28192344\n",
      "epoch :  18  -  cost:  0.27279115\n",
      "epoch :  19  -  cost:  0.26437664\n",
      "epoch :  20  -  cost:  0.25659546\n",
      "epoch :  21  -  cost:  0.24937579\n",
      "epoch :  22  -  cost:  0.24265663\n",
      "epoch :  23  -  cost:  0.23638545\n",
      "epoch :  24  -  cost:  0.23051707\n",
      "epoch :  25  -  cost:  0.22501214\n",
      "epoch :  26  -  cost:  0.21983643\n",
      "epoch :  27  -  cost:  0.21495983\n",
      "epoch :  28  -  cost:  0.21035597\n",
      "epoch :  29  -  cost:  0.20600146\n",
      "epoch :  30  -  cost:  0.20187558\n",
      "epoch :  31  -  cost:  0.19795987\n",
      "epoch :  32  -  cost:  0.19423783\n",
      "epoch :  33  -  cost:  0.19069467\n",
      "epoch :  34  -  cost:  0.1873171\n",
      "epoch :  35  -  cost:  0.1840932\n",
      "epoch :  36  -  cost:  0.18101206\n",
      "epoch :  37  -  cost:  0.17806388\n",
      "epoch :  38  -  cost:  0.17523976\n",
      "epoch :  39  -  cost:  0.17253153\n",
      "epoch :  40  -  cost:  0.16993175\n",
      "epoch :  41  -  cost:  0.16743374\n",
      "epoch :  42  -  cost:  0.16503116\n",
      "epoch :  43  -  cost:  0.16271836\n",
      "epoch :  44  -  cost:  0.16049007\n",
      "epoch :  45  -  cost:  0.15834142\n",
      "epoch :  46  -  cost:  0.15626794\n",
      "epoch :  47  -  cost:  0.15426552\n",
      "epoch :  48  -  cost:  0.1523303\n",
      "epoch :  49  -  cost:  0.15045872\n",
      "epoch :  50  -  cost:  0.14864749\n",
      "epoch :  51  -  cost:  0.14689352\n",
      "epoch :  52  -  cost:  0.14519396\n",
      "epoch :  53  -  cost:  0.14354612\n",
      "epoch :  54  -  cost:  0.14194754\n",
      "epoch :  55  -  cost:  0.14039582\n",
      "epoch :  56  -  cost:  0.13888882\n",
      "epoch :  57  -  cost:  0.13742447\n",
      "epoch :  58  -  cost:  0.1360009\n",
      "epoch :  59  -  cost:  0.13461624\n",
      "epoch :  60  -  cost:  0.13326882\n",
      "epoch :  61  -  cost:  0.13195704\n",
      "epoch :  62  -  cost:  0.1306794\n",
      "epoch :  63  -  cost:  0.12943447\n",
      "epoch :  64  -  cost:  0.12822092\n",
      "epoch :  65  -  cost:  0.12703747\n",
      "epoch :  66  -  cost:  0.12588295\n",
      "epoch :  67  -  cost:  0.12475621\n",
      "epoch :  68  -  cost:  0.123656176\n",
      "epoch :  69  -  cost:  0.12258183\n",
      "epoch :  70  -  cost:  0.12153221\n",
      "epoch :  71  -  cost:  0.120506436\n",
      "epoch :  72  -  cost:  0.11950357\n",
      "epoch :  73  -  cost:  0.118522845\n",
      "epoch :  74  -  cost:  0.117563464\n",
      "epoch :  75  -  cost:  0.11662466\n",
      "epoch :  76  -  cost:  0.11570573\n",
      "epoch :  77  -  cost:  0.114806026\n",
      "epoch :  78  -  cost:  0.11392483\n",
      "epoch :  79  -  cost:  0.1130616\n",
      "epoch :  80  -  cost:  0.11221569\n",
      "epoch :  81  -  cost:  0.11138658\n",
      "epoch :  82  -  cost:  0.11057372\n",
      "epoch :  83  -  cost:  0.10977657\n",
      "epoch :  84  -  cost:  0.108994655\n",
      "epoch :  85  -  cost:  0.10822753\n",
      "epoch :  86  -  cost:  0.1074747\n",
      "epoch :  87  -  cost:  0.10673576\n",
      "epoch :  88  -  cost:  0.1060103\n",
      "epoch :  89  -  cost:  0.1052979\n",
      "epoch :  90  -  cost:  0.10459819\n",
      "epoch :  91  -  cost:  0.10391082\n",
      "epoch :  92  -  cost:  0.10323538\n",
      "epoch :  93  -  cost:  0.10257159\n",
      "epoch :  94  -  cost:  0.101919115\n",
      "epoch :  95  -  cost:  0.10127761\n",
      "epoch :  96  -  cost:  0.10064683\n",
      "epoch :  97  -  cost:  0.10002644\n",
      "epoch :  98  -  cost:  0.09941619\n",
      "epoch :  99  -  cost:  0.098815784\n"
     ]
    },
    {
     "data": {
      "application/javascript": [
       "\n",
       "            setTimeout(function() {\n",
       "                var nbb_cell_id = 14;\n",
       "                var nbb_unformatted_code = \"# calculate the cost for each epoch\\nfor epoch in range(training_epochs):\\n    sess.run(training_step, feed_dict={x: train_x, y_: train_y})\\n    # print(x)\\n    # print(y_)\\n    cost = sess.run(cost_function, feed_dict={x: train_x, y_: train_y})\\n    cost_history = np.append(cost_history, cost)\\n    pred_y = sess.run(y, feed_dict={x: test_x})\\n    print(\\\"epoch : \\\", epoch, \\\" - \\\", \\\"cost: \\\", cost)\\n\\n    mse = tf.reduce_mean(tf.square(pred_y - test_y))\\n    mse_history.append(sess.run(mse))\";\n",
       "                var nbb_formatted_code = \"# calculate the cost for each epoch\\nfor epoch in range(training_epochs):\\n    sess.run(training_step, feed_dict={x: train_x, y_: train_y})\\n    # print(x)\\n    # print(y_)\\n    cost = sess.run(cost_function, feed_dict={x: train_x, y_: train_y})\\n    cost_history = np.append(cost_history, cost)\\n    pred_y = sess.run(y, feed_dict={x: test_x})\\n    print(\\\"epoch : \\\", epoch, \\\" - \\\", \\\"cost: \\\", cost)\\n\\n    mse = tf.reduce_mean(tf.square(pred_y - test_y))\\n    mse_history.append(sess.run(mse))\";\n",
       "                var nbb_cells = Jupyter.notebook.get_cells();\n",
       "                for (var i = 0; i < nbb_cells.length; ++i) {\n",
       "                    if (nbb_cells[i].input_prompt_number == nbb_cell_id) {\n",
       "                        if (nbb_cells[i].get_text() == nbb_unformatted_code) {\n",
       "                             nbb_cells[i].set_text(nbb_formatted_code);\n",
       "                        }\n",
       "                        break;\n",
       "                    }\n",
       "                }\n",
       "            }, 500);\n",
       "            "
      ],
      "text/plain": [
       "<IPython.core.display.Javascript object>"
      ]
     },
     "metadata": {},
     "output_type": "display_data"
    }
   ],
   "source": [
    "# calculate the cost for each epoch\n",
    "for epoch in range(training_epochs):\n",
    "    sess.run(training_step, feed_dict={x: train_x, y_: train_y})\n",
    "    # print(x)\n",
    "    # print(y_)\n",
    "    cost = sess.run(cost_function, feed_dict={x: train_x, y_: train_y})\n",
    "    cost_history = np.append(cost_history, cost)\n",
    "    pred_y = sess.run(y, feed_dict={x: test_x})\n",
    "    print(\"epoch : \", epoch, \" - \", \"cost: \", cost)\n",
    "\n",
    "    mse = tf.reduce_mean(tf.square(pred_y - test_y))\n",
    "    mse_history.append(sess.run(mse))"
   ]
  },
  {
   "cell_type": "code",
   "execution_count": 15,
   "metadata": {},
   "outputs": [
    {
     "name": "stdout",
     "output_type": "stream",
     "text": [
      "MSE: [0.1827408914158887, 0.15125514138251117, 0.12689868356261755, 0.10815862170080594, 0.09361911862033025, 0.08218013685402532, 0.07304171564499566, 0.06563219030717647, 0.05954154443351154, 0.05447215140866243, 0.050204708935140945, 0.04657517120657465, 0.04345904391925875, 0.04076058044921881, 0.03840524258586758, 0.03633434865402457, 0.03450123596444817, 0.03286843703355682, 0.03140562001299502, 0.03008800743783399, 0.028895236205248438, 0.027810428171777087, 0.026819514925790718, 0.0259106873752037, 0.025073983470020628, 0.02430094607394454, 0.023584363932343193, 0.022918049503169332, 0.02229667425602216, 0.02171562365020924, 0.021170892418361766, 0.020658983352373997, 0.02017682893103068, 0.019721736514767562, 0.01929132559318229, 0.01888349087868196, 0.018496362355576612, 0.018128272024659695, 0.01777772615462847, 0.01744339114857901, 0.017124064171996207, 0.016818661996807035, 0.016526206820873843, 0.016245811825572158, 0.015976671600256485, 0.01571805498697653, 0.015469290927335939, 0.015229770787457044, 0.01499893579905687, 0.014776270477234465, 0.014561305475193229, 0.014353601947844933, 0.014152763197028299, 0.013958417458637948, 0.013770219564801178, 0.013587854976327125, 0.013411026144110452, 0.013239457817850261, 0.013072894788991749, 0.012911100572140753, 0.012753846595727215, 0.0126009306807318, 0.012452155499800445, 0.012307338172571616, 0.012166306885183501, 0.01202890134792326, 0.011894968383935486, 0.011764365415313362, 0.011636961113591781, 0.011512623186993321, 0.011391235028083271, 0.011272683492366353, 0.011156861070844867, 0.011043664052454362, 0.010933000064898831, 0.01082477637855319, 0.010718905349091454, 0.010615304021608755, 0.010513893985947268, 0.0104146036292477, 0.010317360789610742, 0.010222096066202975, 0.010128745109709505, 0.010037247225843145, 0.009947544639256274, 0.009859579573117042, 0.009773301141298938, 0.009688653636960228, 0.009605591923421438, 0.009524065645866012, 0.009444031857482516, 0.009365448000056802, 0.009288270914396332, 0.009212458225613116, 0.009137977442664182, 0.009064786949659011, 0.008992854231334758, 0.008922144065096853, 0.008852623270077476, 0.008784261749847451]\n"
     ]
    },
    {
     "data": {
      "image/png": "[encoded data removed]",
      "text/plain": [
       "<Figure size 432x288 with 1 Axes>"
      ]
     },
     "metadata": {
      "needs_background": "light"
     },
     "output_type": "display_data"
    },
    {
     "data": {
      "application/javascript": [
       "\n",
       "            setTimeout(function() {\n",
       "                var nbb_cell_id = 15;\n",
       "                var nbb_unformatted_code = \"# print the final mean square error\\nprint(\\\"MSE:\\\", mse_history)\\nplt.plot(mse_history, \\\"ro-\\\")\\nplt.show()\";\n",
       "                var nbb_formatted_code = \"# print the final mean square error\\nprint(\\\"MSE:\\\", mse_history)\\nplt.plot(mse_history, \\\"ro-\\\")\\nplt.show()\";\n",
       "                var nbb_cells = Jupyter.notebook.get_cells();\n",
       "                for (var i = 0; i < nbb_cells.length; ++i) {\n",
       "                    if (nbb_cells[i].input_prompt_number == nbb_cell_id) {\n",
       "                        if (nbb_cells[i].get_text() == nbb_unformatted_code) {\n",
       "                             nbb_cells[i].set_text(nbb_formatted_code);\n",
       "                        }\n",
       "                        break;\n",
       "                    }\n",
       "                }\n",
       "            }, 500);\n",
       "            "
      ],
      "text/plain": [
       "<IPython.core.display.Javascript object>"
      ]
     },
     "metadata": {},
     "output_type": "display_data"
    }
   ],
   "source": [
    "# print the final mean square error\n",
    "print(\"MSE:\", mse_history)\n",
    "plt.plot(mse_history, \"ro-\")\n",
    "plt.show()"
   ]
  },
  {
   "cell_type": "code",
   "execution_count": 16,
   "metadata": {},
   "outputs": [
    {
     "name": "stdout",
     "output_type": "stream",
     "text": [
      "Accuracy:  1.0\n"
     ]
    },
    {
     "data": {
      "application/javascript": [
       "\n",
       "            setTimeout(function() {\n",
       "                var nbb_cell_id = 16;\n",
       "                var nbb_unformatted_code = \"correct_prediction = tf.equal(tf.argmax(y, 1), tf.argmax(y_, 1))\\naccuracy = tf.reduce_mean(tf.cast(correct_prediction, tf.float32))\\nprint(\\\"Accuracy: \\\", (sess.run(accuracy, feed_dict={x: test_x, y_: test_y})))\";\n",
       "                var nbb_formatted_code = \"correct_prediction = tf.equal(tf.argmax(y, 1), tf.argmax(y_, 1))\\naccuracy = tf.reduce_mean(tf.cast(correct_prediction, tf.float32))\\nprint(\\\"Accuracy: \\\", (sess.run(accuracy, feed_dict={x: test_x, y_: test_y})))\";\n",
       "                var nbb_cells = Jupyter.notebook.get_cells();\n",
       "                for (var i = 0; i < nbb_cells.length; ++i) {\n",
       "                    if (nbb_cells[i].input_prompt_number == nbb_cell_id) {\n",
       "                        if (nbb_cells[i].get_text() == nbb_unformatted_code) {\n",
       "                             nbb_cells[i].set_text(nbb_formatted_code);\n",
       "                        }\n",
       "                        break;\n",
       "                    }\n",
       "                }\n",
       "            }, 500);\n",
       "            "
      ],
      "text/plain": [
       "<IPython.core.display.Javascript object>"
      ]
     },
     "metadata": {},
     "output_type": "display_data"
    }
   ],
   "source": [
    "correct_prediction = tf.equal(tf.argmax(y, 1), tf.argmax(y_, 1))\n",
    "accuracy = tf.reduce_mean(tf.cast(correct_prediction, tf.float32))\n",
    "print(\"Accuracy: \", (sess.run(accuracy, feed_dict={x: test_x, y_: test_y})))"
   ]
  },
  {
   "cell_type": "code",
   "execution_count": 17,
   "metadata": {},
   "outputs": [
    {
     "data": {
      "image/png": "[encoded data removed]",
      "text/plain": [
       "<Figure size 432x288 with 1 Axes>"
      ]
     },
     "metadata": {
      "needs_background": "light"
     },
     "output_type": "display_data"
    },
    {
     "data": {
      "application/javascript": [
       "\n",
       "            setTimeout(function() {\n",
       "                var nbb_cell_id = 17;\n",
       "                var nbb_unformatted_code = \"plt.plot(range(len(cost_history)), cost_history)\\nplt.axis([0, training_epochs, 0, np.max(cost_history)])\\nplt.show()\";\n",
       "                var nbb_formatted_code = \"plt.plot(range(len(cost_history)), cost_history)\\nplt.axis([0, training_epochs, 0, np.max(cost_history)])\\nplt.show()\";\n",
       "                var nbb_cells = Jupyter.notebook.get_cells();\n",
       "                for (var i = 0; i < nbb_cells.length; ++i) {\n",
       "                    if (nbb_cells[i].input_prompt_number == nbb_cell_id) {\n",
       "                        if (nbb_cells[i].get_text() == nbb_unformatted_code) {\n",
       "                             nbb_cells[i].set_text(nbb_formatted_code);\n",
       "                        }\n",
       "                        break;\n",
       "                    }\n",
       "                }\n",
       "            }, 500);\n",
       "            "
      ],
      "text/plain": [
       "<IPython.core.display.Javascript object>"
      ]
     },
     "metadata": {},
     "output_type": "display_data"
    }
   ],
   "source": [
    "plt.plot(range(len(cost_history)), cost_history)\n",
    "plt.axis([0, training_epochs, 0, np.max(cost_history)])\n",
    "plt.show()"
   ]
  },
  {
   "cell_type": "code",
   "execution_count": null,
   "metadata": {},
   "outputs": [],
   "source": []
  }
 ],
 "metadata": {
  "kernelspec": {
   "display_name": "edureka",
   "language": "python",
   "name": "edureka"
  },
  "language_info": {
   "codemirror_mode": {
    "name": "ipython",
    "version": 3
   },
   "file_extension": ".py",
   "mimetype": "text/x-python",
   "name": "python",
   "nbconvert_exporter": "python",
   "pygments_lexer": "ipython3",
   "version": "3.7.5"
  }
 },
 "nbformat": 4,
 "nbformat_minor": 2
}
